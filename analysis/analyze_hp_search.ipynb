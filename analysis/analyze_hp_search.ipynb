{
 "cells": [
  {
   "cell_type": "code",
   "execution_count": 1,
   "metadata": {},
   "outputs": [],
   "source": [
    "from __future__ import print_function  # Only needed for Python 2\n",
    "%matplotlib inline\n",
    "import matplotlib.pyplot as plt\n",
    "import numpy as np\n",
    "import os\n",
    "\n",
    "from analysis_utils import *"
   ]
  },
  {
   "cell_type": "code",
   "execution_count": 2,
   "metadata": {},
   "outputs": [],
   "source": [
    "#setting the root log directory\n",
    "root_dir = '/lfs/local/0/jdunnmon/data_aug/firstaid/all_runs/logs/11_14_17/hp_search_GoogLe'\n",
    "\n",
    "#setting output file\n",
    "outfile = os.path.join(root_dir,'hp_search_results.txt')\n",
    "\n",
    "#getting log paths and hp search run names\n",
    "log_paths, log_names, exp_name = get_log_paths(root_dir)\n",
    "\n",
    "#creating dict of dicts keyed by log parameters\n",
    "all_log_dict = create_master_dict(log_paths,log_names)"
   ]
  },
  {
   "cell_type": "code",
   "execution_count": 4,
   "metadata": {},
   "outputs": [],
   "source": [
    "#searching for maximum test accuracy\n",
    "max_testacc_trial, max_testacc = find_max_by_param(all_log_dict,'Test Accuracy')\n",
    "\n",
    "#searching for maximum validation accuracy\n",
    "max_valacc_trial, max_valacc  = find_max_by_param(all_log_dict,'Validation Accuracy')\n",
    "\n",
    "#searching for maximum train accuracy\n",
    "max_trainacc_trial, max_trainacc = find_max_by_param(all_log_dict,'Train Accuracy')\n"
   ]
  },
  {
   "cell_type": "code",
   "execution_count": null,
   "metadata": {},
   "outputs": [],
   "source": [
    "#writing best hps to output file\n",
    "f = open(outfile, 'w')\n",
    "\n",
    "print(\"Best Test Accuracy = %.2f\" % max_testacc[0],file=f)\n",
    "print(\"Best Parameters for Test Accuracy:\",file=f)\n",
    "print_dict(parse_param_vals(max_testacc_trial, exp_name),f=f)\n",
    "print(\"\\n\")\n",
    "\n",
    "print(\"Best Val Accuracy = %.2f\" % max_valacc[0],file=f)\n",
    "print(\"Best Parameters for Val Accuracy:\",file=f)\n",
    "print_dict(parse_param_vals(max_valacc_trial, exp_name),f=f)\n",
    "print(\"\\n\")\n",
    "\n",
    "print(\"Best Train Accuracy = %.2f\" % max_trainacc[0],file=f)\n",
    "print(\"Best Parameters for Train Accuracy:\",file=f)\n",
    "print_dict(parse_param_vals(max_trainacc_trial,exp_name),f=f)\n",
    "\n",
    "f.close()"
   ]
  }
 ],
 "metadata": {
  "kernelspec": {
   "display_name": "Python 2",
   "language": "python",
   "name": "python2"
  },
  "language_info": {
   "codemirror_mode": {
    "name": "ipython",
    "version": 2
   },
   "file_extension": ".py",
   "mimetype": "text/x-python",
   "name": "python",
   "nbconvert_exporter": "python",
   "pygments_lexer": "ipython2",
   "version": "2.7.14"
  }
 },
 "nbformat": 4,
 "nbformat_minor": 2
}
