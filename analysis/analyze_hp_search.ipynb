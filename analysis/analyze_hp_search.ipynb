{
 "cells": [
  {
   "cell_type": "code",
   "execution_count": 1,
   "metadata": {},
   "outputs": [],
   "source": [
    "%matplotlib inline\n",
    "import matplotlib.pyplot as plt\n",
    "import numpy as np\n",
    "import os\n",
    "\n",
    "from analysis_utils import *"
   ]
  },
  {
   "cell_type": "code",
   "execution_count": 3,
   "metadata": {},
   "outputs": [],
   "source": [
    "#setting the root log directory\n",
    "root_dir = '/lfs/local/0/jdunnmon/data_aug/firstaid/all_runs/logs/11_14_17/hp_search_GoogLe'\n",
    "\n",
    "#getting log paths and hp search run names\n",
    "log_paths, run_names = get_log_paths(root_dir)\n",
    "\n",
    "#creating dict of dicts keyed by log parameters\n",
    "all_log_dict = create_master_dict(log_paths,run_names)"
   ]
  },
  {
   "cell_type": "code",
   "execution_count": 24,
   "metadata": {},
   "outputs": [],
   "source": [
    "def find_max_by_param(all_dict,param):\n",
    "    \"\"\"\n",
    "    INPUTS\n",
    "    param: parameter in dictionary to maximize over hyperparameters\n",
    "    \n",
    "    OUTPUTS\n",
    "    key: key to dict containing values from run with max value of param\n",
    "    \n",
    "    \"\"\"\n",
    "    max_val = 0\n",
    "    for ii,ky in enumerate(all_dict.keys()):\n",
    "        if all_dict[ky][param]>max_val:\n",
    "            max_val = all_dict[ky][param]\n",
    "            key = ky\n",
    "\n",
    "    return key, max_val"
   ]
  },
  {
   "cell_type": "code",
   "execution_count": 25,
   "metadata": {},
   "outputs": [
    {
     "name": "stdout",
     "output_type": "stream",
     "text": [
      "Best Test Accuracy = 0.78\n",
      "Best Val Accuracy = 0.76\n",
      "Best Train Accuracy = 0.76\n"
     ]
    }
   ],
   "source": [
    "#searching for maximum test accuracy\n",
    "max_testacc_trial, max_testacc = find_max_by_param(all_log_dict,'Test Accuracy')\n",
    "\n",
    "#searching for maximum validation accuracy\n",
    "max_valacc_trial, max_valacc  = find_max_by_param(all_log_dict,'Validation Accuracy')\n",
    "\n",
    "#searching for maximum train accuracy\n",
    "max_trainacc_trial, max_trainacc = find_max_by_param(all_log_dict,'Train Accuracy')\n",
    "\n",
    "print(\"Best Test Accuracy = %.2f\" % max_trainacc[0])\n",
    "print(\"Best Val Accuracy = %.2f\" % max_valacc[0])\n",
    "print(\"Best Train Accuracy = %.2f\" % max_testacc[0])"
   ]
  },
  {
   "cell_type": "code",
   "execution_count": 29,
   "metadata": {},
   "outputs": [
    {
     "data": {
      "text/plain": [
       "'hp_search_GoogLe_ep_200_opt_adam_lr_0.001_dp_1.0_l2_0.000001_dec_0.99_l1_0_bs_64'"
      ]
     },
     "execution_count": 29,
     "metadata": {},
     "output_type": "execute_result"
    }
   ],
   "source": [
    "max_trainacc_trial"
   ]
  },
  {
   "cell_type": "code",
   "execution_count": null,
   "metadata": {},
   "outputs": [],
   "source": [
    "#plotting train/val curves for "
   ]
  },
  {
   "cell_type": "code",
   "execution_count": null,
   "metadata": {},
   "outputs": [],
   "source": [
    "#writing best hps to output file\n"
   ]
  }
 ],
 "metadata": {
  "kernelspec": {
   "display_name": "Python 2",
   "language": "python",
   "name": "python2"
  },
  "language_info": {
   "codemirror_mode": {
    "name": "ipython",
    "version": 2
   },
   "file_extension": ".py",
   "mimetype": "text/x-python",
   "name": "python",
   "nbconvert_exporter": "python",
   "pygments_lexer": "ipython2",
   "version": "2.7.14"
  }
 },
 "nbformat": 4,
 "nbformat_minor": 2
}
